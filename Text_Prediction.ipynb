{
 "cells": [
  {
   "cell_type": "code",
   "execution_count": 1,
   "id": "c38a8068",
   "metadata": {},
   "outputs": [],
   "source": [
    "import pandas as pd\n",
    "import numpy as np\n",
    "import warnings\n",
    "warnings.filterwarnings(\"ignore\")\n",
    "\n",
    "import nltk\n",
    "from nltk.tokenize import word_tokenize, sent_tokenize\n",
    "from nltk.corpus import stopwords\n",
    "from nltk.stem import WordNetLemmatizer\n",
    "\n",
    "import torch\n",
    "import torch.nn as nn\n",
    "from torch.utils.data import DataLoader, TensorDataset"
   ]
  },
  {
   "cell_type": "code",
   "execution_count": 2,
   "id": "b78ae742",
   "metadata": {},
   "outputs": [],
   "source": [
    "text = [\"Get busy living or get busy dying\",\n",
    "        'You only live once, but if you do it right, once is enough',\n",
    "        'If you want to live a happy life, tie it to a goal, not to people or things',\n",
    "       'Never let the fear of striking out keep you from playing the game',\n",
    "       \"Money and success don’t change people; they merely amplify what is already there\"]"
   ]
  },
  {
   "cell_type": "code",
   "execution_count": 3,
   "id": "e78dedf8",
   "metadata": {},
   "outputs": [
    {
     "data": {
      "text/plain": [
       "5"
      ]
     },
     "execution_count": 3,
     "metadata": {},
     "output_type": "execute_result"
    }
   ],
   "source": [
    "len(text)"
   ]
  },
  {
   "cell_type": "code",
   "execution_count": 4,
   "id": "b27b3119",
   "metadata": {},
   "outputs": [],
   "source": [
    "letters = set(\"\".join(text)) #unique words"
   ]
  },
  {
   "cell_type": "code",
   "execution_count": 5,
   "id": "6891202d",
   "metadata": {},
   "outputs": [
    {
     "data": {
      "text/plain": [
       "31"
      ]
     },
     "execution_count": 5,
     "metadata": {},
     "output_type": "execute_result"
    }
   ],
   "source": [
    "len(letters)"
   ]
  },
  {
   "cell_type": "code",
   "execution_count": 6,
   "id": "a4e01602",
   "metadata": {},
   "outputs": [],
   "source": [
    "ws = WordNetLemmatizer()"
   ]
  },
  {
   "cell_type": "code",
   "execution_count": 7,
   "id": "8e92e1a6",
   "metadata": {},
   "outputs": [],
   "source": [
    "def split_word_review(data):\n",
    "    lemma_word = []\n",
    "    for i in range(len(data)):\n",
    "        data[i] = data[i].lower()\n",
    "        word_token = word_tokenize(data[i])\n",
    "        clean_data = [i for i in word_token if not i in stopwords.words() and i.isalnum()]\n",
    "        \n",
    "        a = []\n",
    "        for i in clean_data:\n",
    "            a.append(ws.lemmatize(i))\n",
    "        lemma_word.append(a)\n",
    "    return lemma_word     "
   ]
  },
  {
   "cell_type": "code",
   "execution_count": 36,
   "id": "03afff6d",
   "metadata": {},
   "outputs": [
    {
     "data": {
      "text/plain": [
       "[['get', 'busy', 'living', 'get', 'busy', 'dying'],\n",
       " ['live', 'right', 'enough'],\n",
       " ['live', 'happy', 'life', 'tie', 'goal', 'people', 'thing'],\n",
       " ['never', 'let', 'fear', 'striking', 'keep', 'playing', 'game'],\n",
       " ['money', 'success', 'change', 'people', 'merely', 'amplify', 'already']]"
      ]
     },
     "execution_count": 36,
     "metadata": {},
     "output_type": "execute_result"
    }
   ],
   "source": [
    "split_word_review(text)"
   ]
  },
  {
   "cell_type": "code",
   "execution_count": 8,
   "id": "2fec7d20",
   "metadata": {},
   "outputs": [],
   "source": [
    "int_to_word = dict(enumerate(letters))\n",
    "word_to_int = {w:i for i,w in int_to_word.items()}"
   ]
  },
  {
   "cell_type": "code",
   "execution_count": 9,
   "id": "7c19218c",
   "metadata": {},
   "outputs": [
    {
     "data": {
      "text/plain": [
       "'Y'"
      ]
     },
     "execution_count": 9,
     "metadata": {},
     "output_type": "execute_result"
    }
   ],
   "source": [
    "int_to_word[10]"
   ]
  },
  {
   "cell_type": "code",
   "execution_count": 10,
   "id": "f3ae1987",
   "metadata": {},
   "outputs": [
    {
     "data": {
      "text/plain": [
       "23"
      ]
     },
     "execution_count": 10,
     "metadata": {},
     "output_type": "execute_result"
    }
   ],
   "source": [
    "word_to_int['I']"
   ]
  },
  {
   "cell_type": "code",
   "execution_count": 11,
   "id": "40779135",
   "metadata": {},
   "outputs": [],
   "source": [
    "len_text = len(max(text, key=len))"
   ]
  },
  {
   "cell_type": "code",
   "execution_count": 12,
   "id": "939dc314",
   "metadata": {},
   "outputs": [
    {
     "data": {
      "text/plain": [
       "80"
      ]
     },
     "execution_count": 12,
     "metadata": {},
     "output_type": "execute_result"
    }
   ],
   "source": [
    "len_text"
   ]
  },
  {
   "cell_type": "code",
   "execution_count": 13,
   "id": "69187591",
   "metadata": {},
   "outputs": [],
   "source": [
    "#Padding\n",
    "for i in range(len(text)):\n",
    "    while len(text[i]) < len_text:\n",
    "        text[i] += \" \""
   ]
  },
  {
   "cell_type": "code",
   "execution_count": 14,
   "id": "02ec4704",
   "metadata": {},
   "outputs": [
    {
     "data": {
      "text/plain": [
       "['Get busy living or get busy dying                                               ',\n",
       " 'You only live once, but if you do it right, once is enough                      ',\n",
       " 'If you want to live a happy life, tie it to a goal, not to people or things     ',\n",
       " 'Never let the fear of striking out keep you from playing the game               ',\n",
       " 'Money and success don’t change people; they merely amplify what is already there']"
      ]
     },
     "execution_count": 14,
     "metadata": {},
     "output_type": "execute_result"
    }
   ],
   "source": [
    "text"
   ]
  },
  {
   "cell_type": "code",
   "execution_count": 15,
   "id": "68469627",
   "metadata": {},
   "outputs": [
    {
     "name": "stdout",
     "output_type": "stream",
     "text": [
      "Input Sequence: Get busy living or get busy dying                                              , \n",
      "Target Sequence: et busy living or get busy dying                                               \n",
      "Input Sequence: You only live once, but if you do it right, once is enough                     , \n",
      "Target Sequence: ou only live once, but if you do it right, once is enough                      \n",
      "Input Sequence: If you want to live a happy life, tie it to a goal, not to people or things    , \n",
      "Target Sequence: f you want to live a happy life, tie it to a goal, not to people or things     \n",
      "Input Sequence: Never let the fear of striking out keep you from playing the game              , \n",
      "Target Sequence: ever let the fear of striking out keep you from playing the game               \n",
      "Input Sequence: Money and success don’t change people; they merely amplify what is already ther, \n",
      "Target Sequence: oney and success don’t change people; they merely amplify what is already there\n"
     ]
    }
   ],
   "source": [
    "#Creating input sequence and target sequence\n",
    "input_seq = []\n",
    "target_seq = []\n",
    "\n",
    "for i in range(len(text)):\n",
    "    input_seq.append(text[i][:-1])\n",
    "    target_seq.append(text[i][1:])\n",
    "    print(\"Input Sequence: {}, \\nTarget Sequence: {}\".format(input_seq[i], target_seq[i]))"
   ]
  },
  {
   "cell_type": "code",
   "execution_count": 16,
   "id": "1a089a0f",
   "metadata": {},
   "outputs": [],
   "source": [
    "for i in range(len(text)):\n",
    "    input_seq[i] = [word_to_int[char] for char in input_seq[i]]\n",
    "    target_seq[i] = [word_to_int[char] for char in target_seq[i]]"
   ]
  },
  {
   "cell_type": "code",
   "execution_count": 17,
   "id": "dce022e1",
   "metadata": {},
   "outputs": [],
   "source": [
    "dict_size = len(word_to_int)\n",
    "seq_len = len_text-1\n",
    "batch_size = len(text)\n",
    "\n",
    "def one_hot_encoding(sequence, dict_size, seq_len, batch_size):\n",
    "    features = np.zeros((batch_size, seq_len, dict_size), dtype = np.float32)\n",
    "    \n",
    "    for i in range(batch_size):\n",
    "        for j in range(seq_len):\n",
    "            features[i,j, sequence[i][j]] = 1\n",
    "            \n",
    "    return features"
   ]
  },
  {
   "cell_type": "code",
   "execution_count": 18,
   "id": "8937b94a",
   "metadata": {},
   "outputs": [],
   "source": [
    "input_seq = one_hot_encoding(input_seq, dict_size, seq_len, batch_size)"
   ]
  },
  {
   "cell_type": "code",
   "execution_count": 19,
   "id": "92845fc8",
   "metadata": {},
   "outputs": [
    {
     "data": {
      "text/plain": [
       "array([[[0., 0., 0., ..., 0., 0., 0.],\n",
       "        [0., 0., 0., ..., 0., 0., 0.],\n",
       "        [0., 0., 0., ..., 0., 0., 0.],\n",
       "        ...,\n",
       "        [0., 0., 0., ..., 1., 0., 0.],\n",
       "        [0., 0., 0., ..., 1., 0., 0.],\n",
       "        [0., 0., 0., ..., 1., 0., 0.]],\n",
       "\n",
       "       [[0., 0., 0., ..., 0., 0., 0.],\n",
       "        [0., 0., 0., ..., 0., 0., 0.],\n",
       "        [0., 0., 0., ..., 0., 0., 0.],\n",
       "        ...,\n",
       "        [0., 0., 0., ..., 1., 0., 0.],\n",
       "        [0., 0., 0., ..., 1., 0., 0.],\n",
       "        [0., 0., 0., ..., 1., 0., 0.]],\n",
       "\n",
       "       [[0., 0., 0., ..., 0., 0., 0.],\n",
       "        [0., 0., 0., ..., 0., 1., 0.],\n",
       "        [0., 0., 0., ..., 1., 0., 0.],\n",
       "        ...,\n",
       "        [0., 0., 0., ..., 1., 0., 0.],\n",
       "        [0., 0., 0., ..., 1., 0., 0.],\n",
       "        [0., 0., 0., ..., 1., 0., 0.]],\n",
       "\n",
       "       [[0., 0., 0., ..., 0., 0., 0.],\n",
       "        [0., 0., 0., ..., 0., 0., 0.],\n",
       "        [0., 0., 0., ..., 0., 0., 0.],\n",
       "        ...,\n",
       "        [0., 0., 0., ..., 1., 0., 0.],\n",
       "        [0., 0., 0., ..., 1., 0., 0.],\n",
       "        [0., 0., 0., ..., 1., 0., 0.]],\n",
       "\n",
       "       [[0., 0., 0., ..., 0., 0., 0.],\n",
       "        [0., 0., 0., ..., 0., 0., 0.],\n",
       "        [0., 0., 0., ..., 0., 0., 0.],\n",
       "        ...,\n",
       "        [0., 0., 1., ..., 0., 0., 0.],\n",
       "        [0., 0., 0., ..., 0., 0., 0.],\n",
       "        [0., 0., 0., ..., 0., 0., 1.]]], dtype=float32)"
      ]
     },
     "execution_count": 19,
     "metadata": {},
     "output_type": "execute_result"
    }
   ],
   "source": [
    "input_seq"
   ]
  },
  {
   "cell_type": "code",
   "execution_count": 20,
   "id": "629d7a20",
   "metadata": {},
   "outputs": [],
   "source": [
    "input_seq = torch.from_numpy(input_seq)\n",
    "target_seq = torch.Tensor(target_seq)"
   ]
  },
  {
   "cell_type": "code",
   "execution_count": 21,
   "id": "f6b47422",
   "metadata": {},
   "outputs": [],
   "source": [
    "class Model(nn.Module):\n",
    "    def __init__(self, input_size, output_size, hidden_dim, n_layers):\n",
    "        super(Model, self).__init__()\n",
    "        \n",
    "        self.hidden_dim = hidden_dim\n",
    "        self.n_layers = n_layers\n",
    "        \n",
    "        self.rnn = nn.RNN(input_size, hidden_dim, n_layers, batch_first = True)\n",
    "        self.fc = nn.Linear(hidden_dim, output_size)\n",
    "    \n",
    "    def forward(self, x):\n",
    "        batch_size = x.size(0)\n",
    "        \n",
    "        hidden = self.init_hidden(batch_size)\n",
    "        out, hidden = self.rnn(x, hidden)\n",
    "        out = out.contiguous().view(-1, self.hidden_dim)\n",
    "        out = self.fc(out)\n",
    "        return out, hidden\n",
    "    \n",
    "    def init_hidden(self, batch_size):\n",
    "        hidden = torch.zeros(self.n_layers, batch_size, self.hidden_dim)\n",
    "        return hidden"
   ]
  },
  {
   "cell_type": "code",
   "execution_count": 22,
   "id": "f796ac9e",
   "metadata": {},
   "outputs": [],
   "source": [
    "model = Model(input_size=dict_size, output_size=dict_size, hidden_dim=12, n_layers=1)\n",
    "loss_fn = nn.CrossEntropyLoss()\n",
    "optimizer = torch.optim.Adam(model.parameters(), lr=0.001)"
   ]
  },
  {
   "cell_type": "code",
   "execution_count": 23,
   "id": "de650acb",
   "metadata": {},
   "outputs": [
    {
     "name": "stdout",
     "output_type": "stream",
     "text": [
      "Epochs:100/1000, Loss:2.60\n",
      "Epochs:200/1000, Loss:2.48\n",
      "Epochs:300/1000, Loss:2.37\n",
      "Epochs:400/1000, Loss:2.18\n",
      "Epochs:500/1000, Loss:1.94\n",
      "Epochs:600/1000, Loss:1.73\n",
      "Epochs:700/1000, Loss:1.53\n",
      "Epochs:800/1000, Loss:1.34\n",
      "Epochs:900/1000, Loss:1.16\n",
      "Epochs:1000/1000, Loss:1.04\n"
     ]
    }
   ],
   "source": [
    "epochs = 1000\n",
    "\n",
    "for epoch in range(1, epochs+1):\n",
    "    optimizer.zero_grad()\n",
    "    output, hidden = model(input_seq)\n",
    "    loss = loss_fn(output, target_seq.view(-1).long())\n",
    "    loss.backward()\n",
    "    optimizer.step()\n",
    "    \n",
    "    if epoch%100 == 0:\n",
    "        print(\"Epochs:{}/{}, Loss:{:.2f}\".format(epoch, epochs, loss.item()))"
   ]
  },
  {
   "cell_type": "code",
   "execution_count": 24,
   "id": "b60e0776",
   "metadata": {},
   "outputs": [],
   "source": [
    "def predict(model, char):\n",
    "    char = np.array([[word_to_int[i] for i in char]])\n",
    "    char = one_hot_encoding(char, dict_size, char.shape[1],1)\n",
    "    char = torch.from_numpy(char)\n",
    "    \n",
    "    out, hidden = model(char)\n",
    "    prob = nn.functional.softmax(out[-1], dim=0).data\n",
    "    result = torch.max(prob, dim=0)[1].item()\n",
    "    \n",
    "    return int_to_word[result], hidden"
   ]
  },
  {
   "cell_type": "code",
   "execution_count": 30,
   "id": "9bb3aeec",
   "metadata": {},
   "outputs": [],
   "source": [
    "def sample(model, out_len, start = 'You'):\n",
    "    model.eval()\n",
    "    start = start.lower()\n",
    "    chars = [i for i in start]\n",
    "    size = out_len-len(chars)\n",
    "    \n",
    "    for i in range(size):\n",
    "        char, h = predict(model, chars)\n",
    "        chars.append(char)\n",
    "        \n",
    "    return ''.join(chars)"
   ]
  },
  {
   "cell_type": "code",
   "execution_count": 31,
   "id": "a2ff63bd",
   "metadata": {},
   "outputs": [
    {
     "data": {
      "text/plain": [
       "'get the g '"
      ]
     },
     "execution_count": 31,
     "metadata": {},
     "output_type": "execute_result"
    }
   ],
   "source": [
    "sample(model, out_len=10, start=\"Get\")"
   ]
  },
  {
   "cell_type": "code",
   "execution_count": 34,
   "id": "12ca13ab",
   "metadata": {},
   "outputs": [
    {
     "data": {
      "text/plain": [
       "'youge  tot the g the'"
      ]
     },
     "execution_count": 34,
     "metadata": {},
     "output_type": "execute_result"
    }
   ],
   "source": [
    "sample(model, out_len=20, start=\"You\")"
   ]
  },
  {
   "cell_type": "code",
   "execution_count": 35,
   "id": "927adef2",
   "metadata": {},
   "outputs": [
    {
     "data": {
      "text/plain": [
       "'money               '"
      ]
     },
     "execution_count": 35,
     "metadata": {},
     "output_type": "execute_result"
    }
   ],
   "source": [
    "sample(model, out_len=20, start=\"Money\")"
   ]
  },
  {
   "cell_type": "code",
   "execution_count": null,
   "id": "98392ee0",
   "metadata": {},
   "outputs": [],
   "source": []
  }
 ],
 "metadata": {
  "kernelspec": {
   "display_name": "Python 3 (ipykernel)",
   "language": "python",
   "name": "python3"
  },
  "language_info": {
   "codemirror_mode": {
    "name": "ipython",
    "version": 3
   },
   "file_extension": ".py",
   "mimetype": "text/x-python",
   "name": "python",
   "nbconvert_exporter": "python",
   "pygments_lexer": "ipython3",
   "version": "3.9.7"
  }
 },
 "nbformat": 4,
 "nbformat_minor": 5
}
